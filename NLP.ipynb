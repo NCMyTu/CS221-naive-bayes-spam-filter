{
 "cells": [
  {
   "cell_type": "code",
   "execution_count": 1,
   "id": "14de0260",
   "metadata": {},
   "outputs": [],
   "source": [
    "# WARNING: extremely unoptimized code ahead\n",
    "# may take up ~5GB of memory when runs"
   ]
  },
  {
   "cell_type": "code",
   "execution_count": 2,
   "id": "79757c3a",
   "metadata": {},
   "outputs": [],
   "source": [
    "import os\n",
    "import re\n",
    "import spacy\n",
    "import numpy as np\n",
    "from scipy.sparse import coo_matrix, vstack\n",
    "from sklearn.naive_bayes import MultinomialNB, BernoulliNB, ComplementNB\n",
    "from sklearn.metrics import accuracy_score, confusion_matrix, ConfusionMatrixDisplay\n",
    "from sklearn.utils import shuffle\n",
    "from sklearn.metrics import f1_score\n",
    "import matplotlib.pyplot as plt"
   ]
  },
  {
   "cell_type": "code",
   "execution_count": 3,
   "id": "2100fb6b",
   "metadata": {},
   "outputs": [],
   "source": [
    "nlp = spacy.load(\"en_core_web_sm\")"
   ]
  },
  {
   "cell_type": "code",
   "execution_count": 4,
   "id": "709ecf02",
   "metadata": {},
   "outputs": [],
   "source": [
    "def process_email(email_path, mapping):\n",
    "    # Pre-process emails:\n",
    "    #     - Remove \"Subject: \" at the beginning, only apply to this dataset, change this if using different dataset\n",
    "    #     - Remove non-word characters\n",
    "    #     - Lemmatize the remaining words\n",
    "    #     - Keep only words that appear in the dictionary (mapping)\n",
    "    #     - Store the pre-processed words of the email in a list\n",
    "    #\n",
    "    \n",
    "    with open(email_path, \"r\") as file:\n",
    "        lines = file.readlines()\n",
    "\n",
    "    # remove \"Subject: \" at the beginning\n",
    "    to_remove = \"Subject: \"\n",
    "    if lines and lines[0].startswith(to_remove):\n",
    "        lines[0] = lines[0][len(to_remove):]\n",
    "\n",
    "    # remove newlines\n",
    "    temp = \"\".join(lines).replace(\"\\n\", \" \")\n",
    "    # remove non-words\n",
    "    temp = re.sub(r'[^a-zA-Z\\s]', '', temp)\n",
    "    # remove redundant spaces\n",
    "    #content = temp.split()\n",
    "    doc = nlp(temp.lower())\n",
    "    content = [token.lemma_ for token in doc if (lemma := token.lemma_) in mapping]\n",
    "    \n",
    "    return content"
   ]
  },
  {
   "cell_type": "code",
   "execution_count": 5,
   "id": "00863f38",
   "metadata": {},
   "outputs": [],
   "source": [
    "def process_folder(folder_path, mapping):\n",
    "    # Pre-process emails in folder\n",
    "    # Returns a list of lists, where each inner list contains the pre-processed words of an email\n",
    "    \n",
    "    processed_email_list = []\n",
    "    count = 0\n",
    "    \n",
    "    print(\"processed:    0 file\")\n",
    "    \n",
    "    for filename in os.listdir(folder_path):\n",
    "        file_path = os.path.join(folder_path, filename)\n",
    "\n",
    "        content = process_email(file_path, mapping)\n",
    "        \n",
    "        processed_email_list.append(content)\n",
    "        \n",
    "        count += 1\n",
    "        \n",
    "        if count % 1000 == 0:\n",
    "            print(f\"processed: {count} files\")\n",
    "            \n",
    "    print(f\"processed: {count} files\\nprocessing DONE\")\n",
    "        \n",
    "    return processed_email_list"
   ]
  },
  {
   "cell_type": "code",
   "execution_count": 6,
   "id": "7f4dccfe",
   "metadata": {},
   "outputs": [],
   "source": [
    "def get_data(emails_list, mapping):\n",
    "    # Returns: X: 2d matrix, X[i] corresponds to bag-of-words vector of i-th email\n",
    "    \n",
    "    X = np.zeros((len(emails_list), len(mapping)), dtype=np.int64)\n",
    "    \n",
    "    for i in range(len(emails_list)):\n",
    "        for word in emails_list[i]:\n",
    "            if word in mapping:\n",
    "                X[i][mapping[word]] += 1\n",
    "            #else:\n",
    "            #    X[i][mapping[\"-unknown-\"]] += 1\n",
    "    \n",
    "    return X"
   ]
  },
  {
   "cell_type": "markdown",
   "id": "b8b74498",
   "metadata": {},
   "source": [
    "# Get dictionary:"
   ]
  },
  {
   "cell_type": "code",
   "execution_count": 7,
   "id": "377d2772",
   "metadata": {},
   "outputs": [],
   "source": [
    "dict_path = r\"dataset\\dictionary.txt\"\n",
    "\n",
    "with open(dict_path, \"r\") as file:\n",
    "    temp = [line.strip() for line in file]\n",
    "    \n",
    "#temp.append(\"-unknown-\")\n",
    "# use to map each word to an index of bag-of-word vector\n",
    "mapping = {word: index for index, word in enumerate(temp)}"
   ]
  },
  {
   "cell_type": "markdown",
   "id": "027d9c33",
   "metadata": {},
   "source": [
    "# Get train data"
   ]
  },
  {
   "cell_type": "code",
   "execution_count": 8,
   "id": "17be7fe6",
   "metadata": {},
   "outputs": [
    {
     "name": "stdout",
     "output_type": "stream",
     "text": [
      "processed:    0 file\n",
      "processed: 1000 files\n",
      "processed: 2000 files\n",
      "processed: 3000 files\n",
      "processed: 4000 files\n",
      "processed: 5000 files\n",
      "processed: 5650 files\n",
      "processing DONE\n",
      "Got X_train_spam\n"
     ]
    }
   ],
   "source": [
    "emails = process_folder(r\"dataset\\train\\spam\", mapping)\n",
    "\n",
    "X_train_spam = get_data(emails, mapping)\n",
    "y_train_spam = np.ones(len(emails))\n",
    "X_train_spam = coo_matrix(X_train_spam)\n",
    "print(\"Got X_train_spam\")"
   ]
  },
  {
   "cell_type": "code",
   "execution_count": 9,
   "id": "2c05c58d",
   "metadata": {},
   "outputs": [
    {
     "name": "stdout",
     "output_type": "stream",
     "text": [
      "processed:    0 file\n",
      "processed: 1000 files\n",
      "processed: 2000 files\n",
      "processed: 3000 files\n",
      "processed: 4000 files\n",
      "processed: 5000 files\n",
      "processed: 5335 files\n",
      "processing DONE\n",
      "Got X_train_ham\n"
     ]
    }
   ],
   "source": [
    "emails = process_folder(r\"dataset\\train\\ham\", mapping)\n",
    "\n",
    "X_train_ham = get_data(emails, mapping)\n",
    "y_train_ham = np.zeros(len(emails))\n",
    "X_train_ham = coo_matrix(X_train_ham)\n",
    "print(\"Got X_train_ham\")"
   ]
  },
  {
   "cell_type": "code",
   "execution_count": 10,
   "id": "64183415",
   "metadata": {},
   "outputs": [
    {
     "name": "stdout",
     "output_type": "stream",
     "text": [
      "X_train: (10985, 303633), y_train: (10985,)\n"
     ]
    }
   ],
   "source": [
    "X_train = vstack([X_train_spam, X_train_ham])\n",
    "y_train = np.concatenate((y_train_spam, y_train_ham))\n",
    "\n",
    "del X_train_spam, X_train_ham, y_train_spam, y_train_ham\n",
    "\n",
    "# shuffle just for fun, result will be the same as not shuffling\n",
    "X_train, y_train = shuffle(X_train, y_train)\n",
    "print(f\"X_train: {X_train.shape}, y_train: {y_train.shape}\")"
   ]
  },
  {
   "cell_type": "markdown",
   "id": "9f7233b2",
   "metadata": {},
   "source": [
    "# Get test data"
   ]
  },
  {
   "cell_type": "code",
   "execution_count": 11,
   "id": "245c6a47",
   "metadata": {},
   "outputs": [
    {
     "name": "stdout",
     "output_type": "stream",
     "text": [
      "processed:    0 file\n",
      "processed: 1000 files\n",
      "processed: 1499 files\n",
      "processing DONE\n",
      "Got X_test_spam\n"
     ]
    }
   ],
   "source": [
    "emails = process_folder(r\"dataset\\test\\spam\", mapping)\n",
    "\n",
    "X_test_spam = get_data(emails, mapping)\n",
    "y_test_spam = np.ones(len(emails))\n",
    "X_test_spam = coo_matrix(X_test_spam)\n",
    "print(\"Got X_test_spam\")"
   ]
  },
  {
   "cell_type": "code",
   "execution_count": 12,
   "id": "3bdc241b",
   "metadata": {},
   "outputs": [
    {
     "name": "stdout",
     "output_type": "stream",
     "text": [
      "processed:    0 file\n",
      "processed: 1000 files\n",
      "processed: 1630 files\n",
      "processing DONE\n",
      "Got X_test_ham\n"
     ]
    }
   ],
   "source": [
    "emails = process_folder(r\"dataset\\test\\ham\", mapping)\n",
    "\n",
    "X_test_ham = get_data(emails, mapping)\n",
    "y_test_ham = np.zeros(len(emails))\n",
    "X_test_ham = coo_matrix(X_test_ham)\n",
    "print(\"Got X_test_ham\")"
   ]
  },
  {
   "cell_type": "code",
   "execution_count": 13,
   "id": "6b422650",
   "metadata": {},
   "outputs": [],
   "source": [
    "X_test = vstack([X_test_spam, X_test_ham])\n",
    "y_test = np.concatenate((y_test_spam, y_test_ham))\n",
    "\n",
    "del X_test_spam, X_test_ham, y_test_spam, y_test_ham\n",
    "\n",
    "X_test, y_test = shuffle(X_test, y_test)"
   ]
  },
  {
   "cell_type": "markdown",
   "id": "9eea012e",
   "metadata": {},
   "source": [
    "# Build model"
   ]
  },
  {
   "cell_type": "code",
   "execution_count": 14,
   "id": "350ab4a8",
   "metadata": {},
   "outputs": [
    {
     "name": "stdout",
     "output_type": "stream",
     "text": [
      "0.9849792265899648\n"
     ]
    }
   ],
   "source": [
    "clf_multinomial = MultinomialNB(alpha=1)\n",
    "\n",
    "clf_multinomial.fit(X_train, y_train)\n",
    "\n",
    "y_pred_multinomial = clf_multinomial.predict(X_test)\n",
    "\n",
    "print(accuracy_score(y_test, y_pred_multinomial))"
   ]
  },
  {
   "cell_type": "code",
   "execution_count": 15,
   "id": "30160d81",
   "metadata": {},
   "outputs": [
    {
     "data": {
      "image/png": "[encoded data removed]",
      "text/plain": [
       "<Figure size 640x480 with 2 Axes>"
      ]
     },
     "metadata": {},
     "output_type": "display_data"
    }
   ],
   "source": [
    "cm = confusion_matrix(y_test, y_pred_multinomial, labels=clf_multinomial.classes_)\n",
    "disp = ConfusionMatrixDisplay(confusion_matrix=cm,\n",
    "                              display_labels=[\"ham\", \"spam\"])\n",
    "disp.plot()\n",
    "#plt.savefig(\"confusion_matrix.png\")\n",
    "plt.show()"
   ]
  },
  {
   "cell_type": "markdown",
   "id": "154cae85",
   "metadata": {},
   "source": [
    "# Demo"
   ]
  },
  {
   "cell_type": "code",
   "execution_count": 35,
   "id": "d5895342",
   "metadata": {},
   "outputs": [
    {
     "name": "stdout",
     "output_type": "stream",
     "text": [
      "Original email:\n",
      "['Subject: re : [ 618 ]\\n', 'quality drugs at very reasonable prices . viagra at $ 3 . 19\\n', 'it is only one click away\\n', '\\x00']\n",
      "\n",
      "Processed email:\n",
      "['re', 'quality', 'drug', 'at', 'very', 'reasonable', 'price', 'at', 'it', 'be', 'only', 'one', 'click', 'away']\n",
      "\n",
      "p(c=0) = -0.7222418210828572, p(c=1) = -0.664875160678223\n",
      "x_i = re        \tp(x_i|c=0) = -5.96     \tp(x_i|c=1) = -7.32     \n",
      "x_i = quality   \tp(x_i|c=0) = -9.49     \tp(x_i|c=1) = -8.10     \n",
      "x_i = drug      \tp(x_i|c=0) = -11.95    \tp(x_i|c=1) = -8.22     \n",
      "x_i = at        \tp(x_i|c=0) = -5.44     \tp(x_i|c=1) = -5.91     \n",
      "x_i = very      \tp(x_i|c=0) = -7.05     \tp(x_i|c=1) = -7.44     \n",
      "x_i = reasonable\tp(x_i|c=0) = -10.01    \tp(x_i|c=1) = -10.91    \n",
      "x_i = price     \tp(x_i|c=0) = -6.65     \tp(x_i|c=1) = -6.39     \n",
      "x_i = at        \tp(x_i|c=0) = -5.44     \tp(x_i|c=1) = -5.91     \n",
      "x_i = it        \tp(x_i|c=0) = -5.54     \tp(x_i|c=1) = -5.44     \n",
      "x_i = be        \tp(x_i|c=0) = -3.68     \tp(x_i|c=1) = -3.86     \n",
      "x_i = only      \tp(x_i|c=0) = -7.37     \tp(x_i|c=1) = -6.37     \n",
      "x_i = one       \tp(x_i|c=0) = -6.79     \tp(x_i|c=1) = -6.38     \n",
      "x_i = click     \tp(x_i|c=0) = -8.34     \tp(x_i|c=1) = -6.34     \n",
      "x_i = away      \tp(x_i|c=0) = -9.44     \tp(x_i|c=1) = -8.46     \n",
      "\n",
      "ham log probability: -103.81153824684439\n",
      "spam log probability: -97.75730907815306\n",
      "\n",
      "spam!\n"
     ]
    }
   ],
   "source": [
    "email_path = r\"C:\\Users\\PC MY TU\\Desktop\\final_project\\dataset\\test\\spam\\5328.2005-07-15.BG.spam.txt\"\n",
    "#email_path = r\"C:\\Users\\PC MY TU\\Desktop\\final_project\\dataset\\test\\spam\\1301.2004-11-10.BG.spam.txt\"\n",
    "\n",
    "with open(email_path, \"r\") as file:\n",
    "    content = file.readlines()\n",
    "\n",
    "processed_content = process_email(email_path, mapping)\n",
    "print(f\"Original email:\\n{content}\\n\\nProcessed email:\\n{processed_content}\\n\")\n",
    "\n",
    "X = np.zeros((1, len(mapping)), dtype=np.int64)\n",
    "\n",
    "for word in processed_content:\n",
    "    if word in mapping:\n",
    "        X[0][mapping[word]] += 1\n",
    "\n",
    "pred = clf_multinomial.predict(X)\n",
    "\n",
    "print(f\"p(c=0) = {clf_multinomial.class_log_prior_[0]}, p(c=1) = {clf_multinomial.class_log_prior_[1]}\")\n",
    "\n",
    "spam_log_prob = clf_multinomial.class_log_prior_[0]\n",
    "ham_log_prob = clf_multinomial.class_log_prior_[1]\n",
    "log_prob = clf_multinomial.feature_log_prob_\n",
    "for word in processed_content:\n",
    "    print(f\"x_i = {word:<10}\\tp(x_i|c=0) = {log_prob[0][mapping[word]]:<10.2f}\\tp(x_i|c=1) = {log_prob[1][mapping[word]]:<10.2f}\")\n",
    "    spam_log_prob += log_prob[1][mapping[word]]\n",
    "    ham_log_prob += log_prob[0][mapping[word]]\n",
    "    \n",
    "print(f\"\\nham log probability: {ham_log_prob}\\nspam log probability: {spam_log_prob}\")\n",
    "\n",
    "if pred == 1:\n",
    "    print(\"\\nspam!\")\n",
    "else:\n",
    "    print(\"\\nnot spam!\")"
   ]
  },
  {
   "cell_type": "code",
   "execution_count": 36,
   "id": "2dedcb00",
   "metadata": {
    "scrolled": true
   },
   "outputs": [
    {
     "name": "stdout",
     "output_type": "stream",
     "text": [
      "0666.2004-09-29.BG.spam.txt\n",
      "0681.2004-09-29.BG.spam.txt\n",
      "0961.2004-10-18.BG.spam.txt\n",
      "1031.2004-10-25.BG.spam.txt\n",
      "1038.2004-10-25.BG.spam.txt\n",
      "1301.2004-11-10.BG.spam.txt\n",
      "1415.2004-11-16.BG.spam.txt\n",
      "2719.2005-01-26.BG.spam.txt\n",
      "2853.2005-02-01.BG.spam.txt\n",
      "5136.2005-07-04.BG.spam.txt\n"
     ]
    }
   ],
   "source": [
    "# find wrongly predicted email\n",
    "\n",
    "folderpath = r\"C:\\Users\\PC MY TU\\Desktop\\final_project\\dataset\\test\\spam\"\n",
    "#folderpath = r\"C:\\Users\\PC MY TU\\Desktop\\final_project\\dataset\\test\\ham\"\n",
    "\n",
    "for filename in os.listdir(folderpath):\n",
    "    file_path = os.path.join(folderpath, filename)\n",
    "\n",
    "    content = process_email(file_path, mapping)\n",
    "\n",
    "    X = np.zeros((1, len(mapping)), dtype=np.int64)\n",
    "\n",
    "    for word in content:\n",
    "        if word in mapping:\n",
    "            X[0][mapping[word]] += 1\n",
    "\n",
    "    if clf_multinomial.predict(X) != 1:\n",
    "        print(filename)"
   ]
  },
  {
   "cell_type": "code",
   "execution_count": null,
   "id": "95e69870",
   "metadata": {},
   "outputs": [],
   "source": []
  }
 ],
 "metadata": {
  "kernelspec": {
   "display_name": "Python 3 (ipykernel)",
   "language": "python",
   "name": "python3"
  },
  "language_info": {
   "codemirror_mode": {
    "name": "ipython",
    "version": 3
   },
   "file_extension": ".py",
   "mimetype": "text/x-python",
   "name": "python",
   "nbconvert_exporter": "python",
   "pygments_lexer": "ipython3",
   "version": "3.11.4"
  }
 },
 "nbformat": 4,
 "nbformat_minor": 5
}
